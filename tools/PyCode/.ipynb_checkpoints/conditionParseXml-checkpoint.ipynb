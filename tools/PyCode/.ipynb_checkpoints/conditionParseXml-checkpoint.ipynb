{
 "cells": [
  {
   "cell_type": "code",
   "execution_count": 1,
   "metadata": {},
   "outputs": [],
   "source": [
    "import xml.etree.cElementTree as ET\n",
    "import pandas as pd\n",
    "from os.path import isfile, isdir, join\n",
    "from os import listdir\n",
    "from multiprocessing.dummy import Pool as ThreadPool "
   ]
  },
  {
   "cell_type": "code",
   "execution_count": 2,
   "metadata": {},
   "outputs": [],
   "source": [
    "def initDf ():\n",
    "    df = pd.DataFrame({'nct_id' : [],'condition':[]})\n",
    "    return df"
   ]
  },
  {
   "cell_type": "code",
   "execution_count": null,
   "metadata": {},
   "outputs": [],
   "source": [
    "def xml2row(file):\n",
    "    df = initDf()\n",
    "    parsed = {}\n",
    "    parsed['nct_id'] = None\n",
    "    for event, elem in ET.iterparse(file):\n",
    "        if elem.tag == \"nct_id\":\n",
    "            parsed['nct_id'] = elem.text\n",
    "            parsed['condition'] = None\n",
    "        if elem.tag == \"condition\":\n",
    "            parsed['condition'] = None \n",
    "            for k in elem.getchildren():\n",
    "                if k.tag == \"city\":\n",
    "                    parsed['city'] = k.text\n",
    "                if k.tag == \"state\":\n",
    "                    parsed['state'] = k.text\n",
    "                if k.tag == 'zip':\n",
    "                    parsed['zip'] = k.text\n",
    "                if k.tag == \"country\":\n",
    "                    parsed['country'] = k.text\n",
    "            df = df.append(parsed,ignore_index = True)\n",
    "    return df"
   ]
  }
 ],
 "metadata": {
  "kernelspec": {
   "display_name": "Python 3",
   "language": "python",
   "name": "python3"
  },
  "language_info": {
   "codemirror_mode": {
    "name": "ipython",
    "version": 3
   },
   "file_extension": ".py",
   "mimetype": "text/x-python",
   "name": "python",
   "nbconvert_exporter": "python",
   "pygments_lexer": "ipython3",
   "version": "3.6.4"
  }
 },
 "nbformat": 4,
 "nbformat_minor": 2
}
