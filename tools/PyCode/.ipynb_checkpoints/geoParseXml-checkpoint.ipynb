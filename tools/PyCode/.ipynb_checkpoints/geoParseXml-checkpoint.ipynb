{
 "cells": [
  {
   "cell_type": "code",
   "execution_count": 2,
   "metadata": {},
   "outputs": [],
   "source": [
    "import xml.etree.cElementTree as ET\n",
    "import pandas as pd\n",
    "from os.path import isfile, isdir, join\n",
    "from os import listdir\n",
    "from multiprocessing.dummy import Pool as ThreadPool "
   ]
  },
  {
   "cell_type": "code",
   "execution_count": 3,
   "metadata": {},
   "outputs": [],
   "source": [
    "def initDf ():\n",
    "    df = pd.DataFrame({'nct_id' : [],'city':[],'state':[],'zip':[],'country':[]})\n",
    "    return df"
   ]
  },
  {
   "cell_type": "code",
   "execution_count": 8,
   "metadata": {},
   "outputs": [],
   "source": [
    "def xml2row(file):\n",
    "    parsed = {}\n",
    "    parsed['nct_id'] = None\n",
    "    df = initDf()\n",
    "    for event, elem in ET.iterparse(file):\n",
    "        if elem.tag == \"nct_id\":\n",
    "            parsed['nct_id'] = elem.text\n",
    "            parsed['city'] = None\n",
    "            parsed['state'] = None\n",
    "            parsed['zip'] = None\n",
    "            parsed['country'] = None     \n",
    "        if elem.tag == \"address\":\n",
    "            parsed['city'] = None\n",
    "            parsed['state'] = None\n",
    "            parsed['zip'] = None\n",
    "            parsed['country'] = None   \n",
    "            for k in elem.getchildren():\n",
    "                if k.tag == \"city\":\n",
    "                    parsed['city'] = k.text\n",
    "                if k.tag == \"state\":\n",
    "                    parsed['state'] = k.text\n",
    "                if k.tag == 'zip':\n",
    "                    parsed['zip'] = k.text\n",
    "                if k.tag == \"country\":\n",
    "                    parsed['country'] = k.text\n",
    "            print(parsed)\n",
    "            df.append(parsed,ignore_index = True)\n",
    "    return df"
   ]
  },
  {
   "cell_type": "code",
   "execution_count": 9,
   "metadata": {},
   "outputs": [],
   "source": [
    "def printSubDf (directory):\n",
    "    onlyXML = [f for f in listdir(directory) if isfile(join(directory, f)) & f.endswith('xml')]\n",
    "    df = initDf()\n",
    "    for f in onlyXML[0:5]:\n",
    "        file = join(directory, f)\n",
    "        row = xml2row(file)\n",
    "        #new_df = pd.DataFrame(parsed,index=[0])\n",
    "        df = df.append(row,ignore_index=True)\n",
    "    return df"
   ]
  },
  {
   "cell_type": "code",
   "execution_count": 10,
   "metadata": {},
   "outputs": [],
   "source": [
    "def processAll (directory):\n",
    "    df = initDf()\n",
    "    onlyNctDir = [join(directory,d) for d in listdir(directory) if isdir(join(directory,d)) & d.startswith('NCT')]\n",
    "    #pool = ThreadPool(8) \n",
    "    #results = pool.map(printSubDf, onlyNctDirTest)\n",
    "    for subDir in onlyNctDir[0:5]:\n",
    "        print(subDir)\n",
    "        df1 = printSubDf(subDir)\n",
    "        df = df.append(df1,ignore_index=True)\n",
    "    return df"
   ]
  },
  {
   "cell_type": "code",
   "execution_count": 11,
   "metadata": {},
   "outputs": [
    {
     "name": "stdout",
     "output_type": "stream",
     "text": [
      "../../resource/AllPublicXML/NCT0118xxxx\n",
      "../../resource/AllPublicXML/NCT0124xxxx\n",
      "../../resource/AllPublicXML/NCT0130xxxx\n",
      "../../resource/AllPublicXML/NCT0093xxxx\n",
      "../../resource/AllPublicXML/NCT0087xxxx\n"
     ]
    }
   ],
   "source": [
    "directory = '../../resource/AllPublicXML/'\n",
    "res = processAll(directory)"
   ]
  },
  {
   "cell_type": "code",
   "execution_count": 13,
   "metadata": {},
   "outputs": [
    {
     "data": {
      "text/html": [
       "<div>\n",
       "<style scoped>\n",
       "    .dataframe tbody tr th:only-of-type {\n",
       "        vertical-align: middle;\n",
       "    }\n",
       "\n",
       "    .dataframe tbody tr th {\n",
       "        vertical-align: top;\n",
       "    }\n",
       "\n",
       "    .dataframe thead th {\n",
       "        text-align: right;\n",
       "    }\n",
       "</style>\n",
       "<table border=\"1\" class=\"dataframe\">\n",
       "  <thead>\n",
       "    <tr style=\"text-align: right;\">\n",
       "      <th></th>\n",
       "      <th>city</th>\n",
       "      <th>country</th>\n",
       "      <th>nct_id</th>\n",
       "      <th>state</th>\n",
       "      <th>zip</th>\n",
       "    </tr>\n",
       "  </thead>\n",
       "  <tbody>\n",
       "  </tbody>\n",
       "</table>\n",
       "</div>"
      ],
      "text/plain": [
       "Empty DataFrame\n",
       "Columns: [city, country, nct_id, state, zip]\n",
       "Index: []"
      ]
     },
     "execution_count": 13,
     "metadata": {},
     "output_type": "execute_result"
    }
   ],
   "source": [
    "res"
   ]
  },
  {
   "cell_type": "code",
   "execution_count": null,
   "metadata": {},
   "outputs": [],
   "source": []
  }
 ],
 "metadata": {
  "kernelspec": {
   "display_name": "Python 3",
   "language": "python",
   "name": "python3"
  },
  "language_info": {
   "codemirror_mode": {
    "name": "ipython",
    "version": 3
   },
   "file_extension": ".py",
   "mimetype": "text/x-python",
   "name": "python",
   "nbconvert_exporter": "python",
   "pygments_lexer": "ipython3",
   "version": "3.6.4"
  }
 },
 "nbformat": 4,
 "nbformat_minor": 2
}
