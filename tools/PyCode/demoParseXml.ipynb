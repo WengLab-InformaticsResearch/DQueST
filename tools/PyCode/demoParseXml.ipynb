{
 "cells": [
  {
   "cell_type": "code",
   "execution_count": 171,
   "metadata": {},
   "outputs": [
    {
     "data": {
      "text/plain": [
       "32512"
      ]
     },
     "execution_count": 171,
     "metadata": {},
     "output_type": "execute_result"
    }
   ],
   "source": [
    "import xml.etree.cElementTree as ET\n",
    "import pandas as pd\n",
    "from os import listdir\n",
    "from os.path import isfile, isdir, join\n",
    "from multiprocessing.dummy import Pool as ThreadPool \n",
    "os.system(\"taskset -p 0xff %d\" % os.getpid())"
   ]
  },
  {
   "cell_type": "code",
   "execution_count": 172,
   "metadata": {},
   "outputs": [],
   "source": [
    "def initDf ():\n",
    "    \n",
    "    df = pd.DataFrame({'nct_id' : [],\n",
    "                             'gender': [],\n",
    "                             'minimum_age': [],\n",
    "                             'maximum_age': [],\n",
    "                             'healthy_volunteers': [],\n",
    "                             'city':[],\n",
    "                             'state':[],\n",
    "                             'country':[]})\n",
    "    return df"
   ]
  },
  {
   "cell_type": "code",
   "execution_count": 173,
   "metadata": {},
   "outputs": [],
   "source": [
    "def xml2row(file):\n",
    "    parsed = {}\n",
    "    for event, elem in ET.iterparse(file):\n",
    "        if elem.tag == \"nct_id\":\n",
    "            parsed['nct_id'] = elem.text\n",
    "            #print(\"nct_id:\" + elem.text)\n",
    "        if elem.tag == \"gender\":\n",
    "            parsed['gender'] = elem.text\n",
    "            #print(\"gender:\" + elem.text)\n",
    "        if elem.tag == \"minimum_age\":\n",
    "            parsed['minimum_age'] = elem.text\n",
    "            #print(\"minimum_age:\" + elem.text)\n",
    "        if elem.tag == \"maximum_age\":\n",
    "            parsed['maximum_age'] = elem.text\n",
    "            #print(\"maximum_age: \" + elem.text)\n",
    "        if elem.tag == \"healthy_volunteers\":\n",
    "            parsed['healthy_volunteers'] = elem.text\n",
    "            #print(\"healthy_volunteers: \" + elem.text)\n",
    "        if elem.tag == \"address\":\n",
    "            for k in elem.getchildren():\n",
    "                if k.tag == \"city\":\n",
    "                    if('city' in parsed):\n",
    "                        parsed['city'] = parsed['city'] + \";\" + k.text\n",
    "                    else:\n",
    "                        parsed['city'] = k.text\n",
    "                    #print(\"city: \" + k.text)\n",
    "                if k.tag == \"state\":\n",
    "                    if('state' in parsed):\n",
    "                        parsed['state'] = parsed['state'] + \";\" + k.text\n",
    "                    else:\n",
    "                        parsed['state'] = k.text\n",
    "                    #print(\"state: \" + k.text)\n",
    "                if k.tag == \"country\":\n",
    "                    if('country' in parsed):\n",
    "                        parsed['country'] = parsed['country'] + \";\" + k.text\n",
    "                    else:\n",
    "                        parsed['country'] = k.text\n",
    "                    #print(\"country: \" + k.text)\n",
    "    return parsed"
   ]
  },
  {
   "cell_type": "code",
   "execution_count": 174,
   "metadata": {},
   "outputs": [],
   "source": [
    "def printSubDf (directory):\n",
    "    \n",
    "    onlyXML = [f for f in listdir(directory) if isfile(join(directory, f)) & f.endswith('xml')]\n",
    "    df = initDf()\n",
    "    for f in onlyXML:\n",
    "        file = join(directory, f)\n",
    "        row = xml2row(file)\n",
    "        #new_df = pd.DataFrame(parsed,index=[0])\n",
    "        df = df.append(row,ignore_index=True)\n",
    "    return df"
   ]
  },
  {
   "cell_type": "code",
   "execution_count": 175,
   "metadata": {},
   "outputs": [],
   "source": [
    "def processAll (directory):\n",
    "    df = initDf()\n",
    "    onlyNctDir = [join(directory,d) for d in listdir(directory) if isdir(join(directory,d)) & d.startswith('NCT')]\n",
    "    #pool = ThreadPool(8) \n",
    "    #results = pool.map(printSubDf, onlyNctDirTest)\n",
    "    for subDir in onlyNctDir:\n",
    "        print(subDir)\n",
    "        df1 = printSubDf(subDir)\n",
    "        df = df.append(df1,ignore_index=True)\n",
    "    return df"
   ]
  },
  {
   "cell_type": "code",
   "execution_count": null,
   "metadata": {},
   "outputs": [
    {
     "name": "stdout",
     "output_type": "stream",
     "text": [
      "../../resource/AllPublicXML/NCT0000xxxx\n",
      "../../resource/AllPublicXML/NCT0001xxxx\n",
      "../../resource/AllPublicXML/NCT0002xxxx\n",
      "../../resource/AllPublicXML/NCT0003xxxx\n",
      "../../resource/AllPublicXML/NCT0004xxxx\n",
      "../../resource/AllPublicXML/NCT0005xxxx\n",
      "../../resource/AllPublicXML/NCT0006xxxx\n",
      "../../resource/AllPublicXML/NCT0007xxxx\n",
      "../../resource/AllPublicXML/NCT0008xxxx\n",
      "../../resource/AllPublicXML/NCT0009xxxx\n",
      "../../resource/AllPublicXML/NCT0010xxxx\n",
      "../../resource/AllPublicXML/NCT0011xxxx\n",
      "../../resource/AllPublicXML/NCT0012xxxx\n",
      "../../resource/AllPublicXML/NCT0013xxxx\n",
      "../../resource/AllPublicXML/NCT0014xxxx\n",
      "../../resource/AllPublicXML/NCT0015xxxx\n",
      "../../resource/AllPublicXML/NCT0016xxxx\n",
      "../../resource/AllPublicXML/NCT0017xxxx\n",
      "../../resource/AllPublicXML/NCT0018xxxx\n",
      "../../resource/AllPublicXML/NCT0019xxxx\n",
      "../../resource/AllPublicXML/NCT0020xxxx\n",
      "../../resource/AllPublicXML/NCT0021xxxx\n",
      "../../resource/AllPublicXML/NCT0022xxxx\n",
      "../../resource/AllPublicXML/NCT0023xxxx\n",
      "../../resource/AllPublicXML/NCT0024xxxx\n",
      "../../resource/AllPublicXML/NCT0025xxxx\n",
      "../../resource/AllPublicXML/NCT0026xxxx\n",
      "../../resource/AllPublicXML/NCT0027xxxx\n",
      "../../resource/AllPublicXML/NCT0028xxxx\n",
      "../../resource/AllPublicXML/NCT0029xxxx\n",
      "../../resource/AllPublicXML/NCT0030xxxx\n",
      "../../resource/AllPublicXML/NCT0031xxxx\n",
      "../../resource/AllPublicXML/NCT0032xxxx\n",
      "../../resource/AllPublicXML/NCT0033xxxx\n",
      "../../resource/AllPublicXML/NCT0034xxxx\n",
      "../../resource/AllPublicXML/NCT0035xxxx\n",
      "../../resource/AllPublicXML/NCT0036xxxx\n",
      "../../resource/AllPublicXML/NCT0037xxxx\n",
      "../../resource/AllPublicXML/NCT0038xxxx\n",
      "../../resource/AllPublicXML/NCT0039xxxx\n",
      "../../resource/AllPublicXML/NCT0040xxxx\n",
      "../../resource/AllPublicXML/NCT0041xxxx\n",
      "../../resource/AllPublicXML/NCT0042xxxx\n",
      "../../resource/AllPublicXML/NCT0043xxxx\n",
      "../../resource/AllPublicXML/NCT0044xxxx\n",
      "../../resource/AllPublicXML/NCT0045xxxx\n",
      "../../resource/AllPublicXML/NCT0046xxxx\n",
      "../../resource/AllPublicXML/NCT0047xxxx\n",
      "../../resource/AllPublicXML/NCT0048xxxx\n",
      "../../resource/AllPublicXML/NCT0049xxxx\n",
      "../../resource/AllPublicXML/NCT0050xxxx\n",
      "../../resource/AllPublicXML/NCT0051xxxx\n",
      "../../resource/AllPublicXML/NCT0052xxxx\n",
      "../../resource/AllPublicXML/NCT0053xxxx\n",
      "../../resource/AllPublicXML/NCT0054xxxx\n",
      "../../resource/AllPublicXML/NCT0055xxxx\n",
      "../../resource/AllPublicXML/NCT0056xxxx\n",
      "../../resource/AllPublicXML/NCT0057xxxx\n",
      "../../resource/AllPublicXML/NCT0058xxxx\n",
      "../../resource/AllPublicXML/NCT0059xxxx\n",
      "../../resource/AllPublicXML/NCT0060xxxx\n",
      "../../resource/AllPublicXML/NCT0061xxxx\n",
      "../../resource/AllPublicXML/NCT0062xxxx\n",
      "../../resource/AllPublicXML/NCT0063xxxx\n",
      "../../resource/AllPublicXML/NCT0064xxxx\n",
      "../../resource/AllPublicXML/NCT0065xxxx\n",
      "../../resource/AllPublicXML/NCT0066xxxx\n",
      "../../resource/AllPublicXML/NCT0067xxxx\n",
      "../../resource/AllPublicXML/NCT0068xxxx\n",
      "../../resource/AllPublicXML/NCT0069xxxx\n",
      "../../resource/AllPublicXML/NCT0070xxxx\n",
      "../../resource/AllPublicXML/NCT0071xxxx\n",
      "../../resource/AllPublicXML/NCT0072xxxx\n",
      "../../resource/AllPublicXML/NCT0073xxxx\n",
      "../../resource/AllPublicXML/NCT0074xxxx\n",
      "../../resource/AllPublicXML/NCT0075xxxx\n",
      "../../resource/AllPublicXML/NCT0076xxxx\n",
      "../../resource/AllPublicXML/NCT0077xxxx\n",
      "../../resource/AllPublicXML/NCT0078xxxx\n",
      "../../resource/AllPublicXML/NCT0079xxxx\n",
      "../../resource/AllPublicXML/NCT0080xxxx\n",
      "../../resource/AllPublicXML/NCT0081xxxx\n",
      "../../resource/AllPublicXML/NCT0082xxxx\n",
      "../../resource/AllPublicXML/NCT0083xxxx\n",
      "../../resource/AllPublicXML/NCT0084xxxx\n",
      "../../resource/AllPublicXML/NCT0085xxxx\n",
      "../../resource/AllPublicXML/NCT0086xxxx\n",
      "../../resource/AllPublicXML/NCT0087xxxx\n",
      "../../resource/AllPublicXML/NCT0088xxxx\n",
      "../../resource/AllPublicXML/NCT0089xxxx\n",
      "../../resource/AllPublicXML/NCT0090xxxx\n",
      "../../resource/AllPublicXML/NCT0091xxxx\n",
      "../../resource/AllPublicXML/NCT0092xxxx\n",
      "../../resource/AllPublicXML/NCT0093xxxx\n",
      "../../resource/AllPublicXML/NCT0094xxxx\n",
      "../../resource/AllPublicXML/NCT0095xxxx\n",
      "../../resource/AllPublicXML/NCT0096xxxx\n",
      "../../resource/AllPublicXML/NCT0097xxxx\n",
      "../../resource/AllPublicXML/NCT0098xxxx\n",
      "../../resource/AllPublicXML/NCT0099xxxx\n",
      "../../resource/AllPublicXML/NCT0100xxxx\n",
      "../../resource/AllPublicXML/NCT0101xxxx\n",
      "../../resource/AllPublicXML/NCT0102xxxx\n",
      "../../resource/AllPublicXML/NCT0103xxxx\n",
      "../../resource/AllPublicXML/NCT0104xxxx\n",
      "../../resource/AllPublicXML/NCT0105xxxx\n",
      "../../resource/AllPublicXML/NCT0106xxxx\n",
      "../../resource/AllPublicXML/NCT0107xxxx\n",
      "../../resource/AllPublicXML/NCT0108xxxx\n",
      "../../resource/AllPublicXML/NCT0109xxxx\n",
      "../../resource/AllPublicXML/NCT0110xxxx\n",
      "../../resource/AllPublicXML/NCT0111xxxx\n",
      "../../resource/AllPublicXML/NCT0112xxxx\n",
      "../../resource/AllPublicXML/NCT0113xxxx\n",
      "../../resource/AllPublicXML/NCT0114xxxx\n",
      "../../resource/AllPublicXML/NCT0115xxxx\n",
      "../../resource/AllPublicXML/NCT0116xxxx\n",
      "../../resource/AllPublicXML/NCT0117xxxx\n",
      "../../resource/AllPublicXML/NCT0118xxxx\n",
      "../../resource/AllPublicXML/NCT0119xxxx\n",
      "../../resource/AllPublicXML/NCT0120xxxx\n"
     ]
    }
   ],
   "source": [
    "directory = '../../resource/AllPublicXML/'\n",
    "res = processAll(directory)"
   ]
  },
  {
   "cell_type": "code",
   "execution_count": 164,
   "metadata": {},
   "outputs": [
    {
     "data": {
      "text/plain": [
       "(6257, 8)"
      ]
     },
     "execution_count": 164,
     "metadata": {},
     "output_type": "execute_result"
    }
   ],
   "source": [
    "res.shape"
   ]
  },
  {
   "cell_type": "code",
   "execution_count": null,
   "metadata": {},
   "outputs": [],
   "source": []
  },
  {
   "cell_type": "code",
   "execution_count": null,
   "metadata": {},
   "outputs": [],
   "source": []
  }
 ],
 "metadata": {
  "kernelspec": {
   "display_name": "Python 3",
   "language": "python",
   "name": "python3"
  },
  "language_info": {
   "codemirror_mode": {
    "name": "ipython",
    "version": 3
   },
   "file_extension": ".py",
   "mimetype": "text/x-python",
   "name": "python",
   "nbconvert_exporter": "python",
   "pygments_lexer": "ipython3",
   "version": "3.6.4"
  }
 },
 "nbformat": 4,
 "nbformat_minor": 2
}
