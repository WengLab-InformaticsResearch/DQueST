{
 "cells": [
  {
   "cell_type": "code",
   "execution_count": 3,
   "metadata": {},
   "outputs": [],
   "source": [
    "import xml.etree.cElementTree as ET\n",
    "import pandas as pd\n",
    "from os.path import isfile, isdir, join\n",
    "from multiprocessing.dummy import Pool as ThreadPool "
   ]
  },
  {
   "cell_type": "code",
   "execution_count": 4,
   "metadata": {},
   "outputs": [],
   "source": [
    "def initDf ():\n",
    "    \n",
    "    df = pd.DataFrame({'nct_id' : [],\n",
    "                             'gender': [],\n",
    "                             'minimum_age': [],\n",
    "                             'maximum_age': [],\n",
    "                             'healthy_volunteers': [],\n",
    "                             'city':[],\n",
    "                             'state':[],\n",
    "                             'country':[]})\n",
    "    return df"
   ]
  },
  {
   "cell_type": "code",
   "execution_count": 5,
   "metadata": {},
   "outputs": [],
   "source": [
    "def xml2row(file):\n",
    "    parsed = {}\n",
    "    for event, elem in ET.iterparse(file):\n",
    "        if elem.tag == \"nct_id\":\n",
    "            parsed['nct_id'] = elem.text\n",
    "            #print(\"nct_id:\" + elem.text)\n",
    "        if elem.tag == \"gender\":\n",
    "            parsed['gender'] = elem.text\n",
    "            #print(\"gender:\" + elem.text)\n",
    "        if elem.tag == \"minimum_age\":\n",
    "            parsed['minimum_age'] = elem.text\n",
    "            #print(\"minimum_age:\" + elem.text)\n",
    "        if elem.tag == \"maximum_age\":\n",
    "            parsed['maximum_age'] = elem.text\n",
    "            #print(\"maximum_age: \" + elem.text)\n",
    "        if elem.tag == \"healthy_volunteers\":\n",
    "            parsed['healthy_volunteers'] = elem.text\n",
    "            #print(\"healthy_volunteers: \" + elem.text)\n",
    "        if elem.tag == \"address\":\n",
    "            for k in elem.getchildren():\n",
    "                if k.tag == \"city\":\n",
    "                    if('city' in parsed):\n",
    "                        parsed['city'] = parsed['city'] + \";\" + k.text\n",
    "                    else:\n",
    "                        parsed['city'] = k.text\n",
    "                    #print(\"city: \" + k.text)\n",
    "                if k.tag == \"state\":\n",
    "                    if('state' in parsed):\n",
    "                        parsed['state'] = parsed['state'] + \";\" + k.text\n",
    "                    else:\n",
    "                        parsed['state'] = k.text\n",
    "                    #print(\"state: \" + k.text)\n",
    "                if k.tag == \"country\":\n",
    "                    if('country' in parsed):\n",
    "                        parsed['country'] = parsed['country'] + \";\" + k.text\n",
    "                    else:\n",
    "                        parsed['country'] = k.text\n",
    "                    #print(\"country: \" + k.text)\n",
    "    return parsed"
   ]
  },
  {
   "cell_type": "code",
   "execution_count": 1,
   "metadata": {},
   "outputs": [],
   "source": [
    "def printSubDf (directory):\n",
    "    print(subDir)\n",
    "    onlyXML = [f for f in listdir(directory) if isfile(join(directory, f)) & f.endswith('xml')]\n",
    "    df = initDf()\n",
    "    for f in onlyXML[0:5]:\n",
    "        file = join(directory, f)\n",
    "        row = xml2row(file)\n",
    "        #new_df = pd.DataFrame(parsed,index=[0])\n",
    "        df = df.append(row,ignore_index=True)\n",
    "    return df"
   ]
  },
  {
   "cell_type": "code",
   "execution_count": 2,
   "metadata": {},
   "outputs": [],
   "source": [
    "def processAll (directory):\n",
    "    df = initDf()\n",
    "    onlyNctDir = [join(directory,d) for d in listdir(directory) if isdir(join(directory,d)) & d.startswith('NCT')]\n",
    "    #pool = ThreadPool(8) \n",
    "    #results = pool.map(printSubDf, onlyNctDirTest)\n",
    "    #threads = [threading.Thread(target=printSubDf(x)) for x in onlyNctDir]\n",
    "    for subDir in onlyNctDir[0:5]:\n",
    "        df1 = printSubDf(subDir)\n",
    "        df = df.append(df1,ignore_index=True)\n",
    "    return df"
   ]
  },
  {
   "cell_type": "code",
   "execution_count": 3,
   "metadata": {},
   "outputs": [
    {
     "ename": "NameError",
     "evalue": "name 'res' is not defined",
     "output_type": "error",
     "traceback": [
      "\u001b[0;31m---------------------------------------------------------------------------\u001b[0m",
      "\u001b[0;31mNameError\u001b[0m                                 Traceback (most recent call last)",
      "\u001b[0;32m<ipython-input-3-f39046bd8d8f>\u001b[0m in \u001b[0;36m<module>\u001b[0;34m()\u001b[0m\n\u001b[0;32m----> 1\u001b[0;31m \u001b[0mres\u001b[0m\u001b[0;34m.\u001b[0m\u001b[0mshape\u001b[0m\u001b[0;34m\u001b[0m\u001b[0m\n\u001b[0m",
      "\u001b[0;31mNameError\u001b[0m: name 'res' is not defined"
     ]
    }
   ],
   "source": [
    "res.shape"
   ]
  },
  {
   "cell_type": "code",
   "execution_count": 10,
   "metadata": {},
   "outputs": [],
   "source": [
    "res.to_csv('../../resource/demoDf.csv')"
   ]
  },
  {
   "cell_type": "code",
   "execution_count": null,
   "metadata": {},
   "outputs": [],
   "source": []
  }
 ],
 "metadata": {
  "kernelspec": {
   "display_name": "Python 3",
   "language": "python",
   "name": "python3"
  },
  "language_info": {
   "codemirror_mode": {
    "name": "ipython",
    "version": 3
   },
   "file_extension": ".py",
   "mimetype": "text/x-python",
   "name": "python",
   "nbconvert_exporter": "python",
   "pygments_lexer": "ipython3",
   "version": "3.6.4"
  }
 },
 "nbformat": 4,
 "nbformat_minor": 2
}
