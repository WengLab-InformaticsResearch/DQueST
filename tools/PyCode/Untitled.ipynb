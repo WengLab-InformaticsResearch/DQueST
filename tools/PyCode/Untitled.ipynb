{
 "cells": [
  {
   "cell_type": "code",
   "execution_count": 20,
   "metadata": {},
   "outputs": [
    {
     "name": "stdout",
     "output_type": "stream",
     "text": [
      "['foo', 'bar', 'baz']\n",
      "['foo', 'bar', 'baz']\n",
      "['foo', 'bar', 'baz']\n",
      "['foo', 'bar', 'baz']\n",
      "['foo', 'bar', 'baz']\n",
      "['foo', 'bar', 'baz']\n",
      "['foo', 'bar', 'baz']\n",
      "['foo', 'bar', 'baz']\n",
      "['foo', 'bar', 'baz']\n",
      "['foo', 'bar', 'baz']\n",
      "['foo', 'bar', 'baz']\n",
      "['foo', 'bar', 'baz']\n"
     ]
    }
   ],
   "source": [
    "import time\n",
    "from concurrent.futures import ProcessPoolExecutor, ThreadPoolExecutor\n",
    "import random\n",
    "import string\n",
    "import glob"
   ]
  },
  {
   "cell_type": "code",
   "execution_count": 21,
   "metadata": {},
   "outputs": [
    {
     "name": "stdout",
     "output_type": "stream",
     "text": [
      "['foo', 'bar', 'baz']\n",
      "['foo', 'bar', 'baz']\n",
      "['foo', 'bar', 'baz']\n",
      "['foo', 'bar', 'baz']\n",
      "['foo', 'bar', 'baz']\n",
      "['foo', 'bar', 'baz']\n",
      "['foo', 'bar', 'baz']\n",
      "['foo', 'bar', 'baz']\n",
      "['foo', 'bar', 'baz']\n",
      "['foo', 'bar', 'baz']\n",
      "['foo', 'bar', 'baz']\n",
      "['foo', 'bar', 'baz']\n",
      "['foo', 'bar', 'baz']\n",
      "['foo', 'bar', 'baz']\n",
      "['foo', 'bar', 'baz']\n",
      "['foo', 'bar', 'baz']\n",
      "['foo', 'bar', 'baz']\n",
      "['foo', 'bar', 'baz']\n",
      "['foo', 'bar', 'baz']\n",
      "['foo', 'bar', 'baz']\n",
      "['foo', 'bar', 'baz']\n",
      "['foo', 'bar', 'baz']\n",
      "['foo', 'bar', 'baz']\n",
      "['foo', 'bar', 'baz']\n",
      "['foo', 'bar', 'baz']\n",
      "['foo', 'bar', 'baz']\n",
      "['foo', 'bar', 'baz']\n",
      "['foo', 'bar', 'baz']\n"
     ]
    }
   ],
   "source": [
    "def io_heavy(text,base):\n",
    "    start = time.time() - base\n",
    "    f = open('output.txt', 'wt', encoding='utf-8')\n",
    "    f.write(text)\n",
    "    f.close()\n",
    "    stop = time.time() - base\n",
    "    return start,stop"
   ]
  },
  {
   "cell_type": "code",
   "execution_count": null,
   "metadata": {},
   "outputs": [],
   "source": [
    "N=12\n",
    "TEXT = 'START' + ''.join(random.choice(string.ascii_lowercase) for i in range(10**7*5)) + 'END'\n"
   ]
  }
 ],
 "metadata": {
  "kernelspec": {
   "display_name": "Python 3",
   "language": "python",
   "name": "python3"
  },
  "language_info": {
   "codemirror_mode": {
    "name": "ipython",
    "version": 3
   },
   "file_extension": ".py",
   "mimetype": "text/x-python",
   "name": "python",
   "nbconvert_exporter": "python",
   "pygments_lexer": "ipython3",
   "version": "3.6.4"
  }
 },
 "nbformat": 4,
 "nbformat_minor": 2
}
